{
  "nbformat": 4,
  "nbformat_minor": 0,
  "metadata": {
    "colab": {
      "name": "EE698z_final.ipynb",
      "provenance": []
    },
    "kernelspec": {
      "name": "python3",
      "display_name": "Python 3"
    },
    "language_info": {
      "name": "python"
    },
    "accelerator": "GPU"
  },
  "cells": [
    {
      "cell_type": "markdown",
      "metadata": {
        "id": "kF9FdGfkh16O"
      },
      "source": [
        "# **Importing** **Libraries** "
      ]
    },
    {
      "cell_type": "code",
      "metadata": {
        "id": "j1Z2TgQlEEyL"
      },
      "source": [
        "import numpy as np\n",
        "import matplotlib.pyplot as plt\n",
        "from numpy import linalg as LA"
      ],
      "execution_count": 143,
      "outputs": []
    },
    {
      "cell_type": "markdown",
      "metadata": {
        "id": "i907PpIUiDe3"
      },
      "source": [
        "# **Model Attributes**"
      ]
    },
    {
      "cell_type": "code",
      "metadata": {
        "id": "TobZ64GTEVyn",
        "colab": {
          "base_uri": "https://localhost:8080/"
        },
        "outputId": "79e1e556-5bbd-42dc-d639-fb3ffe710909"
      },
      "source": [
        "N=20\n",
        "M=40\n",
        "D=7\n",
        "var_noise_lst = []\n",
        "var_noise_db = [-20,-15,-10,-5,0]\n",
        "for i in range(len(var_noise_db)):\n",
        "  var_noise_lst.append(pow(10,var_noise_db[i]/10))\n",
        "var_noise_lst  "
      ],
      "execution_count": 144,
      "outputs": [
        {
          "output_type": "execute_result",
          "data": {
            "text/plain": [
              "[0.01, 0.03162277660168379, 0.1, 0.31622776601683794, 1.0]"
            ]
          },
          "metadata": {
            "tags": []
          },
          "execution_count": 144
        }
      ]
    },
    {
      "cell_type": "markdown",
      "metadata": {
        "id": "4j6tbHT3l0Xf"
      },
      "source": [
        "# **W and $\\Phi$ matrix initialization**\n",
        "\n",
        "\n",
        "*   D random elements of W sampled from standard normal distribution\n",
        "*   $\\Phi$ matrix sampled from standard normal distribution\n",
        "\n",
        "\n",
        "\n"
      ]
    },
    {
      "cell_type": "code",
      "metadata": {
        "id": "qDt9a-01EJZM"
      },
      "source": [
        "# Generating N X M design matrix \n",
        "phi = np.random.normal(0,1,size=(N,M))"
      ],
      "execution_count": 145,
      "outputs": []
    },
    {
      "cell_type": "code",
      "metadata": {
        "id": "8H_Vl56IsY5x"
      },
      "source": [
        "# Generating M X 1 sparse weight vector\n",
        "W = np.zeros((M,1))\n",
        "Sample = np.random.choice(M,D,replace=False)\n",
        " \n",
        "for i in Sample : \n",
        "  W[i] = np.random.normal(0,1,size=1)"
      ],
      "execution_count": 146,
      "outputs": []
    },
    {
      "cell_type": "markdown",
      "metadata": {
        "id": "dK-2JNVsn-ni"
      },
      "source": [
        "# **Functionalities used in the main algorithm**\n",
        "*   **Diagnolize($\\alpha$)** : return a diagnol matrix with elements of $\\alpha$ vector as diagnol elements\n",
        "*   **NMSE()** : Used as a convergence criteria. Returns true when $i^{th}$ and $(i+1)^{th}$ estimates of W give a NMSE value lower than 0.001.\n",
        "*   **NMSE_value()** : Returns the NMSE value between 2 input vectors\n",
        "\n",
        "\n",
        "\n",
        "\n"
      ]
    },
    {
      "cell_type": "code",
      "metadata": {
        "id": "k0yfGAaaM_nS"
      },
      "source": [
        "def Diagnolize(alpha) : \n",
        " \n",
        "  temp = alpha.reshape(alpha.size)\n",
        "  return np.diag(temp)"
      ],
      "execution_count": 147,
      "outputs": []
    },
    {
      "cell_type": "code",
      "metadata": {
        "id": "kQFs2LB7WR3B"
      },
      "source": [
        "def NMSE(W_new,W_old):\n",
        " \n",
        "  if ((LA.norm(W_new - W_old)/LA.norm(W_old))**2)<=0.001:\n",
        "    return True\n",
        "  return False  \n",
        " \n",
        "def NMSE_value(W_est,W):\n",
        " \n",
        "  return (LA.norm(W_est - W)/LA.norm(W))**2"
      ],
      "execution_count": 148,
      "outputs": []
    },
    {
      "cell_type": "markdown",
      "metadata": {
        "id": "vuaiuInLpyqq"
      },
      "source": [
        "# **Algorithm for maximum posterior estimate of W**\n",
        "Given specifications : \n",
        "*   Assume the initial value of $\\alpha_{i}$ to be 100 rather than sampling from Gamma distribution.\n",
        "*   Assume the value of $\\beta$ to be known.\n",
        "*   NMSE value for each noise variance was averaged over 1000 samples to capture the general trend\n",
        "\n",
        "\n"
      ]
    },
    {
      "cell_type": "code",
      "metadata": {
        "id": "LTfxAXQpE71C"
      },
      "source": [
        "NMSE_lst = [] # stores the NMSE value for each noise variance values.\n",
        "\n",
        "W_mp = [] # stores the maximum posterior estimate of W for each noise variance value\n",
        "\n",
        "for i in var_noise_lst :\n",
        " \n",
        "  var_noise = i\n",
        "\n",
        "  noise = np.random.normal(0,pow(var_noise,0.5),size=(N,1)) #sampling noise from zero mean normal distribution\n",
        " \n",
        "  t = np.matmul(phi,W) + noise # Generating observations\n",
        " \n",
        "  NMSE_samples = 1000\n",
        "\n",
        "  NMSE_sum = 0\n",
        "\n",
        "  W_temp  = np.zeros((M,1))\n",
        "  for i in range(NMSE_samples):\n",
        "\n",
        "    alpha = np.ones((M,1))*100\n",
        "    #print(beta)\n",
        " \n",
        "    W_estimate = np.zeros((M,1)) \n",
        "    W_variance = np.zeros((M,M))\n",
        "    gamma = np.zeros((M,1))\n",
        " \n",
        "    flag = 0\n",
        "    j=0 #indexed loop if the convergence fails\n",
        "    while j<1000:\n",
        "\n",
        "      A = Diagnolize(alpha)\n",
        " \n",
        "      sigma = np.linalg.inv((np.matmul(phi.T,phi))/(var_noise) + A)\n",
        "\n",
        "      mean = np.matmul(sigma,np.matmul(phi.T,t))/(var_noise)\n",
        " \n",
        "      #checks the convergence criteria for each cycle of the while loop\n",
        "      if flag==1: \n",
        "        if NMSE(mean,W_estimate): #mean:W_new W_est:W_old\n",
        "          W_estimate = mean\n",
        "          W_variance = sigma\n",
        "          NMSE_sum = NMSE_sum + float(NMSE_value(W_estimate,W))\n",
        "          W_temp = W_temp + W_estimate\n",
        "          break\n",
        " \n",
        "      for i in range(M):\n",
        "        gamma[i] = 1 - alpha[i]*sigma[i][i]\n",
        "  \n",
        "      for i in range(M):\n",
        "        alpha[i] = (gamma[i])/(mean[i]*mean[i])\n",
        " \n",
        " \n",
        "      W_estimate = mean\n",
        "      W_variance = sigma\n",
        " \n",
        "      flag = 1\n",
        "      j = j+1\n",
        " \n",
        "  NMSE_lst.append(NMSE_sum/NMSE_samples)\n",
        "  W_mp.append(W_temp/NMSE_samples)"
      ],
      "execution_count": 149,
      "outputs": []
    },
    {
      "cell_type": "code",
      "metadata": {
        "colab": {
          "base_uri": "https://localhost:8080/"
        },
        "id": "ykbNTzquNXpa",
        "outputId": "78cf8e1c-22b1-4df1-868d-414ff36879b1"
      },
      "source": [
        "NMSE_lst"
      ],
      "execution_count": 150,
      "outputs": [
        {
          "output_type": "execute_result",
          "data": {
            "text/plain": [
              "[0.0017070022516186372,\n",
              " 0.009365427961123881,\n",
              " 0.032290529592295114,\n",
              " 0.08490801773152047,\n",
              " 0.5344483273155413]"
            ]
          },
          "metadata": {
            "tags": []
          },
          "execution_count": 150
        }
      ]
    },
    {
      "cell_type": "markdown",
      "metadata": {
        "id": "7GA0o9LDzKRW"
      },
      "source": [
        "# **Plot of NMSE v/s noise variance**\n",
        "Inference :\n",
        "*   The normalized mean squared error (NMSE) increases monotonically as the noise variance increases. This inference also concurs with our intuitive understanding, as variance increases the error in observations also increases thus making the estimate of W less accurate.\n",
        "\n"
      ]
    },
    {
      "cell_type": "code",
      "metadata": {
        "id": "evUqnf2AWiu2",
        "colab": {
          "base_uri": "https://localhost:8080/",
          "height": 312
        },
        "outputId": "6fba9612-df52-4fd2-ac5f-e4bac02fb00f"
      },
      "source": [
        "plt.semilogy(var_noise_db,NMSE_lst)\n",
        "plt.scatter(var_noise_db,NMSE_lst)\n",
        "plt.title(\"NMSE v/s Noise\")\n",
        "plt.xlabel(\"Noise variance (db)\")\n",
        "plt.ylabel(\"NMSE log scale\")"
      ],
      "execution_count": 151,
      "outputs": [
        {
          "output_type": "execute_result",
          "data": {
            "text/plain": [
              "Text(0, 0.5, 'NMSE log scale')"
            ]
          },
          "metadata": {
            "tags": []
          },
          "execution_count": 151
        },
        {
          "output_type": "display_data",
          "data": {
            "image/png": "[encoded data removed]",
            "text/plain": [
              "<Figure size 432x288 with 1 Axes>"
            ]
          },
          "metadata": {
            "tags": [],
            "needs_background": "light"
          }
        }
      ]
    },
    {
      "cell_type": "markdown",
      "metadata": {
        "id": "LZ8ss-ewAzZy"
      },
      "source": [
        "| NMSE value | Noise(db) |\n",
        "|------------|-----------|\n",
        "| 0.0017     | -20       |\n",
        "| 0.0093     | -15       |\n",
        "| 0.0323     | -10       |\n",
        "| 0.0849     | -5        |\n",
        "| 0.5344     | 0         |"
      ]
    }
  ]
}